{
 "cells": [
  {
   "cell_type": "markdown",
   "id": "9e4c020c-34b2-4c72-9167-3639fea9e9fa",
   "metadata": {},
   "source": [
    "<strong>(1) Linear Regression:</strong>This is the foundation of many regression algorithms. It models the relationship between a dependent variable (what you want to predict) and one or more independent variables (features used for prediction) using a linear equation, Y=mX +c <br>"
   ]
  },
  {
   "cell_type": "code",
   "execution_count": null,
   "id": "ff334e30-705b-49fb-9b2a-2656bebc4cc9",
   "metadata": {},
   "outputs": [],
   "source": [
    "import pandas as pd\n",
    "import numpy as np\n",
    "from matplotlib import pyplot as plt\n",
    "%matplotlib inline\n",
    "import matplotlib\n",
    "matplotlib.rcParams[\"figure.figsize\"]=(20,10)"
   ]
  }
 ],
 "metadata": {
  "kernelspec": {
   "display_name": "Python 3 (ipykernel)",
   "language": "python",
   "name": "python3"
  },
  "language_info": {
   "codemirror_mode": {
    "name": "ipython",
    "version": 3
   },
   "file_extension": ".py",
   "mimetype": "text/x-python",
   "name": "python",
   "nbconvert_exporter": "python",
   "pygments_lexer": "ipython3",
   "version": "3.11.7"
  }
 },
 "nbformat": 4,
 "nbformat_minor": 5
}
