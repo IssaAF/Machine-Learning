{
 "cells": [
  {
   "cell_type": "markdown",
   "id": "a68662ef-4b26-4ace-832d-bdda23fd708e",
   "metadata": {},
   "source": [
    "(1) Simple Linear Regression:This is the foundation of many regression algorithms. It models the relationship between a dependent variable (what you want to predict) and one or more independent variables (features used for prediction) using a linear equation, y=mx +c .Where m is the slope or  gradient of a graph of  y/x and c is the intecept on the   y-axis."
   ]
  }
 ],
 "metadata": {
  "kernelspec": {
   "display_name": "Python 3 (ipykernel)",
   "language": "python",
   "name": "python3"
  },
  "language_info": {
   "codemirror_mode": {
    "name": "ipython",
    "version": 3
   },
   "file_extension": ".py",
   "mimetype": "text/x-python",
   "name": "python",
   "nbconvert_exporter": "python",
   "pygments_lexer": "ipython3",
   "version": "3.11.7"
  }
 },
 "nbformat": 4,
 "nbformat_minor": 5
}
